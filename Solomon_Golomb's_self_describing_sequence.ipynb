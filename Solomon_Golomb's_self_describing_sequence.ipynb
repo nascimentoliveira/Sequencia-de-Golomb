{
  "cells": [
    {
      "cell_type": "markdown",
      "metadata": {
        "id": "view-in-github",
        "colab_type": "text"
      },
      "source": [
        "<a href=\"https://colab.research.google.com/github/nascimentoliveira/Sequencia-de-Golomb/blob/main/Solomon_Golomb's_self_describing_sequence.ipynb\" target=\"_parent\"><img src=\"https://colab.research.google.com/assets/colab-badge.svg\" alt=\"Open In Colab\"/></a>"
      ]
    },
    {
      "cell_type": "markdown",
      "source": [
        "Inspired by Problem #10049 Self-describing Sequence in\n",
        "\n",
        "https://onlinejudge.org/external/100/10049.pdf\n",
        "\n",
        "#Sequência Auto Descritiva de Solomon Golomb\n",
        "\n",
        "Em homenagem ao matemático, engenheiro e professor Solomon Wolf Golomb, a chamada sequência (auto descritiva) de Solomon Golomb (ou simplesmente sequência de Golomb, que por vezes é também chamada de sequência de Silverman) é definida como uma sequência de números inteiros positivos ($\\mathbb{Z^{*+}}$), monoticamente crescrente (ou não decrescente se preferir), de inteiros $a_1, a_2, ..., a_n$ com as seguintes propriedades:\n",
        "\n",
        "1.   $a_n$ é o número de vezes que $n$ ocorre na sequência;\n",
        "2.   $a_1 = 1$;\n",
        "3.   quando $n > 1$, $a_n$ é o menor inteiro único que torna possível a primeira condição.\n",
        "\n",
        "O primeiro número da sequência é 1, a partir daí o número $n$ ocorre $a_n$ vezes na sequência ordenada e não decrescente, isto é, $a_1 \\le a_2 \\le a_3 \\le ... \\le a_n$\n",
        "\n",
        "Dessa forma calculamos:\n",
        "\n",
        "* $a_1 = 1$ → 1 ocorre uma vez na sequência;\n",
        "* $a_2 = 2$ → 2 ocorre duas vezes na sequência;\n",
        "* $a_3 = 2$ → 3 ocorre duas vezes na sequência;\n",
        "* $a_4 = 3$ → 4 ocorre três vezes na sequência;\n",
        "* $a_5 = 3$ → 5 ocorre três vezes na sequência;\n",
        "* $a_6 = 4$ → 6 ocorre quatro vezes na sequência;\n",
        "* $a_n = x$ → n ocorre $x$ vezes na sequência;\n",
        "* ...\n",
        "\n",
        "\\begin{array}{}\n",
        "n   & | & 1 & 2 & 3 & 4 & 5 & 6  & 7  & 8  & 9  & 10 & 11 & 12 & 13 & ... \\\\\n",
        "a_n & | & 1 & 2 & 2 & 3 & 3 & 4 & 4 & 4 & 5 & 5 & 5 & 6 & 6 & ...\n",
        "\\end{array}\n",
        "\n",
        "\n",
        "Seguindo as propriedades, podemos mostrar os 45 primeiros números da sequência:\n",
        "\n",
        "Sequência de Golomb = (1, 2, 2, 3, 3, 4, 4, 4, 5, 5, 5, 6, 6, 6, 6, 7, 7, 7, 7, 8, 8, 8, 8, 9, 9, 9, 9, 9, 10, 10, 10, 10, 10, 11, 11, 11, 11, 11, 12, 12, 12, 12, 12, 12, 13, ...)\n",
        "\n",
        "\n",
        "#1) Gerador da lista dos $n$ primeiros números da Sequência de Golomb\n",
        "Podemos desenvolver uma função, utilizando Python 3 para gerar uma lista com os primeiros $n$ valores da sequência."
      ],
      "metadata": {
        "id": "60GTn60IO2Y1"
      }
    },
    {
      "cell_type": "code",
      "source": [
        "#Python 3 script to list the first n numbers of the sequence\n",
        "\n",
        "def golombListGenerator(n):\n",
        "    \n",
        "    #unexpected parameter\n",
        "    if (n <= 0):\n",
        "        print(\"Expected positive values (nth position in the sequence, starting at 1)!\")\n",
        "        return \n",
        "\n",
        "    GolombSequence = list()\n",
        "    a_n = 1\n",
        "    \n",
        "    #generate list \n",
        "    while (len(GolombSequence) < n):\n",
        "        GolombSequence.append(a_n)\n",
        "        #add n, (a_n - 1) more times\n",
        "        for _ in range(GolombSequence[a_n - 1] - 1):\n",
        "            if (len(GolombSequence) == n): return tuple(GolombSequence)\n",
        "            GolombSequence.append(a_n)\n",
        "        a_n += 1"
      ],
      "metadata": {
        "id": "jFuQInrXfp6P"
      },
      "execution_count": null,
      "outputs": []
    },
    {
      "cell_type": "markdown",
      "source": [
        "Output:\n",
        "\n"
      ],
      "metadata": {
        "id": "7xzC9j7lNH96"
      }
    },
    {
      "cell_type": "code",
      "source": [
        "from time import time\n",
        "inicio = time()\n",
        "\n",
        "firstNumbers = 45\n",
        "print(\"The first \" +str(firstNumbers) + \" numbers of the sequence are:\\n\", golombListGenerator(firstNumbers))\n",
        "\n",
        "fim = time()\n",
        "print(\"\\n⏱️ Runtime: \" + str(fim - inicio)[:7] + \" seconds.\")"
      ],
      "metadata": {
        "colab": {
          "base_uri": "https://localhost:8080/"
        },
        "id": "iNELnS6viiIo",
        "outputId": "ce8c14b8-8efd-48ca-ffc5-89583f62e43e"
      },
      "execution_count": null,
      "outputs": [
        {
          "output_type": "stream",
          "name": "stdout",
          "text": [
            "The first 45 numbers of the sequence are:\n",
            " (1, 2, 2, 3, 3, 4, 4, 4, 5, 5, 5, 6, 6, 6, 6, 7, 7, 7, 7, 8, 8, 8, 8, 9, 9, 9, 9, 9, 10, 10, 10, 10, 10, 11, 11, 11, 11, 11, 12, 12, 12, 12, 12, 12, 13)\n",
            "\n",
            "⏱️ Runtime: 0.00217 seconds.\n"
          ]
        }
      ]
    },
    {
      "cell_type": "markdown",
      "source": [
        "---\n",
        "\n",
        "Gerando a lista completa podemos consultar o elemento de interesse e sua posição. \n",
        "\n",
        "E quando estamos interessados em um elemento que está muito distante do início da sequência? \n",
        "\n",
        "Gerar uma lista muito grande de elementos da sequência pode esbarrar em limitações de tempo e espaço. Além disso é desconfortável procurar um elemento visualmente em uma lista grande.\n",
        "\n",
        "\n",
        "**Se estivermos interessados em uma posição $n$ específica na sequência, será que conseguimos informações sobre o elemento nesta posição sem gerar a lista completa?**\n",
        "\n",
        "A resposta é sim, de várias maneiras! \n",
        "\n",
        "#2) Consultando a $n-ésima$ posição na sequência\n",
        "\n",
        "\n",
        "A primeira e mais imediata é utilizar a relação de recorrência desenvolvida por Colin Mallows:\n",
        "\n",
        "$a_1 = a(1) = 1$\n",
        "\n",
        "$a_n = a(n) = 1 + a(n - a(a(n-1)))$\n",
        "\n",
        "$a_{n+1} = a(n + 1) = 1 + a(n + 1 - a(a(n)))$\n",
        "\n",
        "Abaixo, uma função desenvolvida em Python 3 que implementa essa relação de recorrência."
      ],
      "metadata": {
        "id": "nBsQGFa3fTyQ"
      }
    },
    {
      "cell_type": "code",
      "source": [
        "#Python 3 script to find the n-th number of Golomb's sequence\n",
        "\n",
        "def findNthElement(n):\n",
        "    \n",
        "    #unexpected parameter\n",
        "    if (n <= 0):\n",
        "        print(\"Expected positive values (nth position in the sequence, starting at 1)!\")\n",
        "        return\n",
        "\n",
        "    #recursion stop condition (base)\n",
        "    elif (n == 1):\n",
        "        return 1\n",
        "\n",
        "    return 1 + findNthElement(n - findNthElement(findNthElement(n - 1)))"
      ],
      "metadata": {
        "id": "1EoyLfWDd_kV"
      },
      "execution_count": null,
      "outputs": []
    },
    {
      "cell_type": "markdown",
      "source": [
        "Output:"
      ],
      "metadata": {
        "id": "MacpP0ANDcDb"
      }
    },
    {
      "cell_type": "code",
      "source": [
        "from time import time\n",
        "inicio = time()\n",
        "\n",
        "searchedIndex = 45\n",
        "print(\"The element #\" + str(searchedIndex) +  \" of the sequence is \" + str(findNthElement(searchedIndex)))\n",
        "\n",
        "fim = time()\n",
        "print(\"\\n⏱️ Runtime: \" + str(fim - inicio)[:7] + \" seconds.\")"
      ],
      "metadata": {
        "colab": {
          "base_uri": "https://localhost:8080/"
        },
        "id": "rTe6bSWyqBlo",
        "outputId": "ee2411f8-1f46-47c8-d9f5-d6ab7aca5f51"
      },
      "execution_count": null,
      "outputs": [
        {
          "output_type": "stream",
          "name": "stdout",
          "text": [
            "The element #45 of the sequence is 13\n",
            "\n",
            "⏱️ Runtime: 2.04841 seconds.\n"
          ]
        }
      ]
    },
    {
      "cell_type": "markdown",
      "source": [
        "---\n",
        "\n",
        "Note que a implementação da relação de recorrência pode, muito facilmente, enfrentar problemas de tempo de execução e stack overflow. Explicitamente ela não retorna a sequência de Golomb, porém internamente ela armazena os elementos na pilha de recursão.\n",
        "\n",
        "Logo nos valores mais baixos de posição do elemento da sequência, você irá notar que é mais eficiente gerar a lista toda e depois consultar.\n",
        "\n",
        "Existe outra solução?\n",
        "\n",
        "Sim, uma segunda solução é mapear a sequência em uma \"*sequência auxiliar*\" que indica a posição do primeiro $n$ na sequencia de Golomb.\n",
        "\n",
        "#3) Solução alternativa para consultar a $n-ésima$ posição na sequência\n",
        "\n",
        " Veja:\n",
        "\n",
        "* $a_1 = 1$ → 1 ocorre pela primeira vez (e única) na posição 1;\n",
        "* $a_2 = 2$ → 2 ocorre pela primeira vez na posição 2;\n",
        "* $a_3 = 2$  \n",
        "* $a_4 = 3$ → 3 ocorre pela primeira vez na posição 4;\n",
        "* $a_5 = 3$ \n",
        "* $a_6 = 4$ → 4 ocorre pela primeira vez na posição 6;\n",
        "* ...\n",
        "\n",
        "Dessa forma, conseguimos mapear a sequência original da seguinte forma:\n",
        "\n",
        "\\begin{array}{}\n",
        "n      & | & 1 & 2 & 3 & 4 & 5 & 6  & 7  & 8  & 9  & 10 & 11 & 12 & 13 & ... \\\\\n",
        "\\text{posição do }1^{st}\\text{ (n)} & | & 1 & 2 & 4 & 6 & 9 & 12 & 16 & 20 & 24 & 29 & 34 & 39 & 45 & ...\n",
        "\\end{array}\n",
        "\n",
        "Abaixo, a implementação da função que gera a \"*sequência auxiliar*\" e a armazena no vetor \"*indexFirst*\" (índice do primeiro). Ela busca, iterativamente o índice do último $n$ e acrescenta a esse índice o número de vezes que $n$ ocorre, gerando portanto o índice em que $n+1$ ocorre primeiro.\n",
        "\n",
        "\n",
        "* $1^{st}$ ocorrência do 2 = $1^{st}$ ocorrência do 1 + quantas vezes o 1 ocorre;\n",
        "* $1^{st}$ ocorrência do 3 = $1^{st}$ ocorrência do 2 + quantas vezes o 2 ocorre;\n",
        "* $1^{st}$ ocorrência do 4 = $1^{st}$ ocorrência do 3 + quantas vezes o 3 ocorre;\n",
        "* $1^{st}$ ocorrência do 5 = $1^{st}$ ocorrência do 4 + quantas vezes o 4 ocorre;\n",
        "* $1^{st}$ ocorrência do $n$ = $1^{st}$ ocorrência do $n-1$ + quantas vezes o $n-1$ ocorre;\n",
        "* $1^{st}$ ocorrência do $n+1$ = $1^{st}$ ocorrência do $n$ + quantas vezes o $n$ ocorre;\n",
        "* ...\n",
        "\n",
        "\n",
        "Talvez você esteja se perguntando: como saber quantas vezes um determinado $n$ ocorre se não construímos a lista?\n",
        "\n",
        "A resposta para essa pergunta é a chave desta solução. Como a sequência é não descrescente, podemos consultar a quantidade de ocorrências de determinado número na própria lista auxiliar.\n",
        "\n",
        "Por exemplo: como saber quantas vezes o 5 ocorre?\n",
        "Vamos olhar nossa \"*sequência auxiliar*\"\n",
        "\n",
        "\\begin{array}{}\n",
        "n      & | & 1 & 2 & 3 & 4 & 5 & 6 \\\\\n",
        "\\text{posição do }1^{st}\\text{ n} & | & 1 & 2 & 4 & 6 & 9 & ?\n",
        "\\end{array}\n",
        "\n",
        "\n",
        "O primeiro 3 ocorre na posição 4 ($a_4 = 3$) e o primeiro 4 ocorre na posição 6 ($a_6 = 4$) logo podemos restaurar a sequência original:\n",
        "\n",
        "\\begin{array}{}\n",
        "n   & | & ... & 4 & 5 & 6 & ... \\\\\n",
        "a_n & | & ... & 3 & 3 & 4 & ...\n",
        "\\end{array}\n",
        "\n",
        "Portanto, concluímos com convicção que o 5 ocorre 3 vezes na sequência.\n",
        "* $1^{st}$ ocorrência do $n+1$ = $1^{st}$ ocorrência do $n$ + quantas vezes o $n$ ocorre;\n",
        "* $1^{st}$ ocorrência do 6 = $1^{st}$ ocorrência do $5$ + quantas vezes o $5$ ocorre;\n",
        "* $1^{st}$ ocorrência do 6 = 9 + 3 = 12;\n",
        "\n",
        "\\begin{array}{}\n",
        "n      & | & 1 & 2 & 3 & 4 & 5 & 6 & 7\\\\\n",
        "\\text{posição do }1^{st}\\text{ n} & | & 1 & 2 & 4 & 6 & 9 & 12 & ?\n",
        "\\end{array}\n",
        "\n",
        "\n",
        "Dessa forma construímos a \"*sequência auxiliar*\"."
      ],
      "metadata": {
        "id": "0x4DPqQmIj3y"
      }
    },
    {
      "cell_type": "code",
      "source": [
        "#Python 3 script to alternatively find the nth number of the Golomb sequence\n",
        "#non-recurrent\n",
        "\n",
        "def alternativefindNthElement(n):\n",
        "    \n",
        "    #unexpected parameter\n",
        "    if (n <= 0):\n",
        "        print(\"Expected positive values (nth position in the sequence, starting at 1)!\")\n",
        "        return\n",
        "\n",
        "    #vector that stores the index of the first occurrence of n\n",
        "    #indexFirst[n] <- index of the first occurrence of n (starting at 1)\n",
        "    indexFirst = [1]\n",
        "    a_n = 2\n",
        "    temp = int()\n",
        "\n",
        "    #build index vector\n",
        "    while True:\n",
        "        #find how many times n occurs (n occurs a_n times)\n",
        "        #as we do not know the value of a_n, we look for the index  \n",
        "        #in the vector indexFirst which encompasses the position a_n\n",
        "        for lastIndex in indexFirst:\n",
        "            if lastIndex < a_n : temp = lastIndex\n",
        "            else: break\n",
        "        \n",
        "        #indexFirst[n+1] = indexFirst[n] + how many times n occurs\n",
        "        nextIndex = indexFirst[-1] + (indexFirst.index(temp)+1)\n",
        "        \n",
        "        #stop condition\n",
        "        if (nextIndex > n): break   \n",
        "\n",
        "        indexFirst.append(nextIndex)\n",
        "\n",
        "        a_n += 1\n",
        "    \n",
        "    return len(indexFirst)"
      ],
      "metadata": {
        "id": "E-3XvL1lrov1"
      },
      "execution_count": null,
      "outputs": []
    },
    {
      "cell_type": "markdown",
      "source": [
        "Output:"
      ],
      "metadata": {
        "id": "uX1cD044gbc8"
      }
    },
    {
      "cell_type": "code",
      "source": [
        "from time import time\n",
        "inicio = time()\n",
        "\n",
        "searchedIndex = 45\n",
        "print(\"The element #\" + str(searchedIndex) +  \" of the sequence is \" + str(alternativefindNthElement(searchedIndex)))\n",
        "\n",
        "fim = time()\n",
        "print(\"\\n⏱️ Runtime: \" + str(fim - inicio)[:7] + \" seconds.\")"
      ],
      "metadata": {
        "colab": {
          "base_uri": "https://localhost:8080/"
        },
        "id": "wqh5Lvgw2mgU",
        "outputId": "9a0b786d-287b-44d8-c04c-e9b9bc583bb7"
      },
      "execution_count": null,
      "outputs": [
        {
          "output_type": "stream",
          "name": "stdout",
          "text": [
            "The element #45 of the sequence is 13\n",
            "\n",
            "⏱️ Runtime: 0.00080 seconds.\n"
          ]
        }
      ]
    },
    {
      "cell_type": "markdown",
      "source": [
        "---\n",
        "\n",
        "Repare que é muito mais eficiente que a solução recursiva, tanto em complexidade de tempo quanto de espaço.\n",
        "\n",
        "\n",
        "Até agora, desenvolvemos um script para gerar a lista com a sequência de Golomb e dois outros scripts para consultar qual valor está em determinada posição $n$ da sequência ($a_1, a_2, ..., a_n, ...$).\n",
        "\n",
        "**Como fazer para consultar as todas as posições em que determinado valor ocorre?**\n",
        "\n",
        "#4) Consultando determinado valor na sequência\n",
        "\n",
        "Podemos aproveitar o algoritmo acima e alterar a condição de parada para buscar onde começa o indice do $(n+1)$-ésimo número. Com isso, saberemos o índice onde $n$ occorre pela primeira vez e o índice em que $n+1$ ocorre pela primeira vez. O intervalo de índices onde $n$ ocorre é limitado por esses dois valores (intervalo fechado no primeiro, aberto no segundo)."
      ],
      "metadata": {
        "id": "BdQigerHbLqe"
      }
    },
    {
      "cell_type": "code",
      "source": [
        "#Python 3 script to find the range of indices where \n",
        "#the number n appears in the Golomb's sequence\n",
        "\n",
        "def indexInterval(n):\n",
        "    \n",
        "    if (n <= 0):\n",
        "        print(\"Expected positive values (starting at 1)!\")\n",
        "        return\n",
        "    \n",
        "    #vector that stores the index of the first occurrence of n\n",
        "    #indexFirst[n] <- index of the first occurrence of n (starting at 1)\n",
        "    indexFirst = [1]\n",
        "    a_n = 2\n",
        "    temp = int()\n",
        "\n",
        "    #build index vector\n",
        "    while True:\n",
        "        #find how many times n occurs (n occurs a_n times)\n",
        "        #as we do not know the value of a_n, we look for the index  \n",
        "        #in the vector indexFirst which encompasses the position a_n\n",
        "        for lastIndex in indexFirst:\n",
        "            if lastIndex < a_n : temp = lastIndex\n",
        "            else: break\n",
        "        \n",
        "        #indexFirst[n+1] = indexFirst[n] + how many times n occurs\n",
        "        #factor 1 appears because array index starts at 0\n",
        "        nextIndex = indexFirst[-1] + (indexFirst.index(temp) + 1)\n",
        "        \n",
        "        #stop condition\n",
        "        if (len(indexFirst) > n): break   \n",
        "\n",
        "        indexFirst.append(nextIndex)\n",
        "\n",
        "        a_n += 1\n",
        "    \n",
        "    return tuple(range(indexFirst[-2], indexFirst[-1]))"
      ],
      "metadata": {
        "id": "v8cwuDF27NVQ"
      },
      "execution_count": null,
      "outputs": []
    },
    {
      "cell_type": "markdown",
      "source": [
        "Output:"
      ],
      "metadata": {
        "id": "sMehHxgugi-t"
      }
    },
    {
      "cell_type": "code",
      "source": [
        "from time import time\n",
        "inicio = time()\n",
        "\n",
        "n = 12\n",
        "print(\"The number \" + str(n) +  \" occurs in the positions \" + str(indexInterval(n)))\n",
        "\n",
        "fim = time()\n",
        "print(\"\\n⏱️ Runtime: \" + str(fim - inicio)[:7] + \" seconds.\")"
      ],
      "metadata": {
        "colab": {
          "base_uri": "https://localhost:8080/"
        },
        "id": "pLybomHp9tGu",
        "outputId": "22918b13-a57e-42a8-d86e-937b9990f2b7"
      },
      "execution_count": null,
      "outputs": [
        {
          "output_type": "stream",
          "name": "stdout",
          "text": [
            "The number 12 occurs in the positions (39, 40, 41, 42, 43, 44)\n",
            "\n",
            "⏱️ Runtime: 0.00062 seconds.\n"
          ]
        }
      ]
    },
    {
      "cell_type": "markdown",
      "source": [
        "#Resumo\n",
        "---\n",
        "\n",
        "Com esses algoritmos, é possível:\n",
        "\n",
        "\n",
        "1. Gerar a sequência de Golomb até onde precise (ou sua máquina permita); \n",
        "2. Encontrar o número $a_n$ informando sua posição $n$ na sequência;\n",
        "3. Encontrar o intervalo ($a_k, a_{k+1}, ..., a_{k+(a_n-1)}$) de posições em que o número $n$ ocorre;\n",
        "4. Em consequência de 3 ou adaptando o retorno do algoritmo em 2 é possível saber a quantidade de vezes que determinado número $n$ ocorre na sequência;\n",
        "\n",
        "Implemente os algoritmos acima, troque os parâmetros, teste. Implemente uma das sugestões em 4. Entenda e aprenda.\n",
        "\n",
        "---\n",
        "\n",
        "```\n",
        "\"A maturidade vem com os obstáculos superados.\"\n",
        "```\n",
        "\n",
        "\n"
      ],
      "metadata": {
        "id": "G7uwZbG0hFx1"
      }
    }
  ],
  "metadata": {
    "colab": {
      "name": "Solomon Golomb's self-describing sequence.ipynb",
      "provenance": [],
      "collapsed_sections": [],
      "include_colab_link": true
    },
    "kernelspec": {
      "display_name": "Python 3",
      "name": "python3"
    },
    "language_info": {
      "name": "python"
    }
  },
  "nbformat": 4,
  "nbformat_minor": 0
}